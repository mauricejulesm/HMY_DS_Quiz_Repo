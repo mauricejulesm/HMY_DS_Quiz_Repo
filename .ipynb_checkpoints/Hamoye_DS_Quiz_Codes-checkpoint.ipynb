{
 "cells": [
  {
   "cell_type": "markdown",
   "metadata": {},
   "source": [
    "# Hamoye Stage A Data Science QUIZ\n",
    "### Author: `Maurice Jules Mulisa`\n",
    "### Date: `July 20th, 2020`"
   ]
  },
  {
   "cell_type": "markdown",
   "metadata": {},
   "source": [
    "## Q1. Arrays"
   ]
  },
  {
   "cell_type": "code",
   "execution_count": 10,
   "metadata": {},
   "outputs": [
    {
     "name": "stdout",
     "output_type": "stream",
     "text": [
      "A_B with extend:  [1, 2, 3, 4, 5, 6, 13, 21, 34]\n",
      "A_B with append:  [1, 2, 3, 4, 5, 6, [13, 21, 34]]\n"
     ]
    }
   ],
   "source": [
    "A1 = [1,2,3,4,5,6]\n",
    "A2 = [1,2,3,4,5,6]\n",
    "B = [13, 21, 34]\n",
    "A1.extend(B)\n",
    "print('A_B with extend: ', A1)\n",
    "A2.append(B)\n",
    "print('A_B with append: ', A2)\n",
    "\n",
    "# .extend is the one that produces dired results"
   ]
  },
  {
   "cell_type": "code",
   "execution_count": null,
   "metadata": {},
   "outputs": [],
   "source": []
  },
  {
   "cell_type": "code",
   "execution_count": null,
   "metadata": {},
   "outputs": [],
   "source": []
  }
 ],
 "metadata": {
  "kernelspec": {
   "display_name": "Python 3",
   "language": "python",
   "name": "python3"
  },
  "language_info": {
   "codemirror_mode": {
    "name": "ipython",
    "version": 3
   },
   "file_extension": ".py",
   "mimetype": "text/x-python",
   "name": "python",
   "nbconvert_exporter": "python",
   "pygments_lexer": "ipython3",
   "version": "3.7.6"
  }
 },
 "nbformat": 4,
 "nbformat_minor": 4
}
